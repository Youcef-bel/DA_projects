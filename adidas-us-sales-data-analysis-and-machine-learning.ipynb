{
 "cells": [
  {
   "cell_type": "code",
   "execution_count": 1,
   "id": "f031833f",
   "metadata": {
    "_cell_guid": "b1076dfc-b9ad-4769-8c92-a6c4dae69d19",
    "_uuid": "8f2839f25d086af736a60e9eeb907d3b93b6e0e5",
    "execution": {
     "iopub.execute_input": "2022-12-24T23:39:09.245972Z",
     "iopub.status.busy": "2022-12-24T23:39:09.245007Z",
     "iopub.status.idle": "2022-12-24T23:39:09.265681Z",
     "shell.execute_reply": "2022-12-24T23:39:09.264343Z"
    },
    "papermill": {
     "duration": 0.039304,
     "end_time": "2022-12-24T23:39:09.268246",
     "exception": false,
     "start_time": "2022-12-24T23:39:09.228942",
     "status": "completed"
    },
    "tags": []
   },
   "outputs": [
    {
     "name": "stdout",
     "output_type": "stream",
     "text": [
      "/kaggle/input/adidas-sales-dataset/Adidas US Sales Datasets.xlsx\n"
     ]
    }
   ],
   "source": [
    "# This Python 3 environment comes with many helpful analytics libraries installed\n",
    "# It is defined by the kaggle/python Docker image: https://github.com/kaggle/docker-python\n",
    "# For example, here's several helpful packages to load\n",
    "\n",
    "import numpy as np # linear algebra\n",
    "import pandas as pd # data processing, CSV file I/O (e.g. pd.read_csv)\n",
    "\n",
    "# Input data files are available in the read-only \"../input/\" directory\n",
    "# For example, running this (by clicking run or pressing Shift+Enter) will list all files under the input directory\n",
    "\n",
    "import os\n",
    "for dirname, _, filenames in os.walk('/kaggle/input'):\n",
    "    for filename in filenames:\n",
    "        print(os.path.join(dirname, filename))\n",
    "\n",
    "# You can write up to 20GB to the current directory (/kaggle/working/) that gets preserved as output when you create a version using \"Save & Run All\" \n",
    "# You can also write temporary files to /kaggle/temp/, but they won't be saved outside of the current session"
   ]
  },
  {
   "cell_type": "code",
   "execution_count": 2,
   "id": "12a011fc",
   "metadata": {
    "execution": {
     "iopub.execute_input": "2022-12-24T23:39:09.297836Z",
     "iopub.status.busy": "2022-12-24T23:39:09.297422Z",
     "iopub.status.idle": "2022-12-24T23:39:11.825720Z",
     "shell.execute_reply": "2022-12-24T23:39:11.824304Z"
    },
    "papermill": {
     "duration": 2.548763,
     "end_time": "2022-12-24T23:39:11.830018",
     "exception": false,
     "start_time": "2022-12-24T23:39:09.281255",
     "status": "completed"
    },
    "tags": []
   },
   "outputs": [],
   "source": [
    "df=pd.read_excel('/kaggle/input/adidas-sales-dataset/Adidas US Sales Datasets.xlsx')"
   ]
  },
  {
   "cell_type": "code",
   "execution_count": 3,
   "id": "67c079ce",
   "metadata": {
    "execution": {
     "iopub.execute_input": "2022-12-24T23:39:11.866175Z",
     "iopub.status.busy": "2022-12-24T23:39:11.865649Z",
     "iopub.status.idle": "2022-12-24T23:39:12.903254Z",
     "shell.execute_reply": "2022-12-24T23:39:12.902099Z"
    },
    "papermill": {
     "duration": 1.055854,
     "end_time": "2022-12-24T23:39:12.906208",
     "exception": false,
     "start_time": "2022-12-24T23:39:11.850354",
     "status": "completed"
    },
    "tags": []
   },
   "outputs": [],
   "source": [
    "import matplotlib.pyplot as plt\n",
    "import seaborn as sns"
   ]
  },
  {
   "cell_type": "code",
   "execution_count": 4,
   "id": "a53e2444",
   "metadata": {
    "execution": {
     "iopub.execute_input": "2022-12-24T23:39:12.934183Z",
     "iopub.status.busy": "2022-12-24T23:39:12.933764Z",
     "iopub.status.idle": "2022-12-24T23:39:12.969772Z",
     "shell.execute_reply": "2022-12-24T23:39:12.968140Z"
    },
    "papermill": {
     "duration": 0.052954,
     "end_time": "2022-12-24T23:39:12.972504",
     "exception": false,
     "start_time": "2022-12-24T23:39:12.919550",
     "status": "completed"
    },
    "tags": []
   },
   "outputs": [
    {
     "name": "stdout",
     "output_type": "stream",
     "text": [
      "<class 'pandas.core.frame.DataFrame'>\n",
      "RangeIndex: 9652 entries, 0 to 9651\n",
      "Data columns (total 14 columns):\n",
      " #   Column       Non-Null Count  Dtype  \n",
      "---  ------       --------------  -----  \n",
      " 0   Unnamed: 0   0 non-null      float64\n",
      " 1   Unnamed: 1   9649 non-null   object \n",
      " 2   Unnamed: 2   9650 non-null   object \n",
      " 3   Unnamed: 3   9649 non-null   object \n",
      " 4   Unnamed: 4   9649 non-null   object \n",
      " 5   Unnamed: 5   9649 non-null   object \n",
      " 6   Unnamed: 6   9649 non-null   object \n",
      " 7   Unnamed: 7   9649 non-null   object \n",
      " 8   Unnamed: 8   9649 non-null   object \n",
      " 9   Unnamed: 9   9649 non-null   object \n",
      " 10  Unnamed: 10  9649 non-null   object \n",
      " 11  Unnamed: 11  9649 non-null   object \n",
      " 12  Unnamed: 12  9649 non-null   object \n",
      " 13  Unnamed: 13  9649 non-null   object \n",
      "dtypes: float64(1), object(13)\n",
      "memory usage: 1.0+ MB\n"
     ]
    }
   ],
   "source": [
    "df.info()"
   ]
  },
  {
   "cell_type": "code",
   "execution_count": 5,
   "id": "f2fe15bb",
   "metadata": {
    "execution": {
     "iopub.execute_input": "2022-12-24T23:39:13.000524Z",
     "iopub.status.busy": "2022-12-24T23:39:13.000132Z",
     "iopub.status.idle": "2022-12-24T23:39:13.009124Z",
     "shell.execute_reply": "2022-12-24T23:39:13.007881Z"
    },
    "papermill": {
     "duration": 0.025567,
     "end_time": "2022-12-24T23:39:13.011170",
     "exception": false,
     "start_time": "2022-12-24T23:39:12.985603",
     "status": "completed"
    },
    "tags": []
   },
   "outputs": [],
   "source": [
    "df = df.drop('Unnamed: 0',axis=1)"
   ]
  },
  {
   "cell_type": "code",
   "execution_count": 6,
   "id": "1b02444c",
   "metadata": {
    "execution": {
     "iopub.execute_input": "2022-12-24T23:39:13.039126Z",
     "iopub.status.busy": "2022-12-24T23:39:13.038378Z",
     "iopub.status.idle": "2022-12-24T23:39:13.046788Z",
     "shell.execute_reply": "2022-12-24T23:39:13.045900Z"
    },
    "papermill": {
     "duration": 0.024663,
     "end_time": "2022-12-24T23:39:13.048954",
     "exception": false,
     "start_time": "2022-12-24T23:39:13.024291",
     "status": "completed"
    },
    "tags": []
   },
   "outputs": [],
   "source": [
    "df = df.drop(labels=[0,1,2], axis=0)"
   ]
  },
  {
   "cell_type": "code",
   "execution_count": 7,
   "id": "b23b1e5a",
   "metadata": {
    "execution": {
     "iopub.execute_input": "2022-12-24T23:39:13.076136Z",
     "iopub.status.busy": "2022-12-24T23:39:13.075609Z",
     "iopub.status.idle": "2022-12-24T23:39:13.081329Z",
     "shell.execute_reply": "2022-12-24T23:39:13.080113Z"
    },
    "papermill": {
     "duration": 0.021978,
     "end_time": "2022-12-24T23:39:13.083465",
     "exception": false,
     "start_time": "2022-12-24T23:39:13.061487",
     "status": "completed"
    },
    "tags": []
   },
   "outputs": [],
   "source": [
    "df.columns = df.iloc[0]"
   ]
  },
  {
   "cell_type": "code",
   "execution_count": 8,
   "id": "133c713b",
   "metadata": {
    "execution": {
     "iopub.execute_input": "2022-12-24T23:39:13.110459Z",
     "iopub.status.busy": "2022-12-24T23:39:13.110034Z",
     "iopub.status.idle": "2022-12-24T23:39:13.117911Z",
     "shell.execute_reply": "2022-12-24T23:39:13.116759Z"
    },
    "papermill": {
     "duration": 0.023971,
     "end_time": "2022-12-24T23:39:13.120160",
     "exception": false,
     "start_time": "2022-12-24T23:39:13.096189",
     "status": "completed"
    },
    "tags": []
   },
   "outputs": [],
   "source": [
    "df = df.drop(labels=3, axis=0)"
   ]
  },
  {
   "cell_type": "code",
   "execution_count": 9,
   "id": "cee4ed38",
   "metadata": {
    "execution": {
     "iopub.execute_input": "2022-12-24T23:39:13.147507Z",
     "iopub.status.busy": "2022-12-24T23:39:13.147093Z",
     "iopub.status.idle": "2022-12-24T23:39:13.153549Z",
     "shell.execute_reply": "2022-12-24T23:39:13.152454Z"
    },
    "papermill": {
     "duration": 0.023004,
     "end_time": "2022-12-24T23:39:13.155872",
     "exception": false,
     "start_time": "2022-12-24T23:39:13.132868",
     "status": "completed"
    },
    "tags": []
   },
   "outputs": [],
   "source": [
    "df = df.reset_index(drop=True)"
   ]
  },
  {
   "cell_type": "code",
   "execution_count": 10,
   "id": "0e3c16e6",
   "metadata": {
    "execution": {
     "iopub.execute_input": "2022-12-24T23:39:13.182825Z",
     "iopub.status.busy": "2022-12-24T23:39:13.182382Z",
     "iopub.status.idle": "2022-12-24T23:39:13.206201Z",
     "shell.execute_reply": "2022-12-24T23:39:13.204869Z"
    },
    "papermill": {
     "duration": 0.040575,
     "end_time": "2022-12-24T23:39:13.208991",
     "exception": false,
     "start_time": "2022-12-24T23:39:13.168416",
     "status": "completed"
    },
    "tags": []
   },
   "outputs": [
    {
     "data": {
      "text/html": [
       "<div>\n",
       "<style scoped>\n",
       "    .dataframe tbody tr th:only-of-type {\n",
       "        vertical-align: middle;\n",
       "    }\n",
       "\n",
       "    .dataframe tbody tr th {\n",
       "        vertical-align: top;\n",
       "    }\n",
       "\n",
       "    .dataframe thead th {\n",
       "        text-align: right;\n",
       "    }\n",
       "</style>\n",
       "<table border=\"1\" class=\"dataframe\">\n",
       "  <thead>\n",
       "    <tr style=\"text-align: right;\">\n",
       "      <th>3</th>\n",
       "      <th>Retailer</th>\n",
       "      <th>Retailer ID</th>\n",
       "      <th>Invoice Date</th>\n",
       "      <th>Region</th>\n",
       "      <th>State</th>\n",
       "      <th>City</th>\n",
       "      <th>Product</th>\n",
       "      <th>Price per Unit</th>\n",
       "      <th>Units Sold</th>\n",
       "      <th>Total Sales</th>\n",
       "      <th>Operating Profit</th>\n",
       "      <th>Operating Margin</th>\n",
       "      <th>Sales Method</th>\n",
       "    </tr>\n",
       "  </thead>\n",
       "  <tbody>\n",
       "    <tr>\n",
       "      <th>0</th>\n",
       "      <td>Foot Locker</td>\n",
       "      <td>1185732</td>\n",
       "      <td>2020-01-01 00:00:00</td>\n",
       "      <td>Northeast</td>\n",
       "      <td>New York</td>\n",
       "      <td>New York</td>\n",
       "      <td>Men's Street Footwear</td>\n",
       "      <td>50</td>\n",
       "      <td>1200</td>\n",
       "      <td>600000</td>\n",
       "      <td>300000</td>\n",
       "      <td>0.5</td>\n",
       "      <td>In-store</td>\n",
       "    </tr>\n",
       "    <tr>\n",
       "      <th>1</th>\n",
       "      <td>Foot Locker</td>\n",
       "      <td>1185732</td>\n",
       "      <td>2020-01-02 00:00:00</td>\n",
       "      <td>Northeast</td>\n",
       "      <td>New York</td>\n",
       "      <td>New York</td>\n",
       "      <td>Men's Athletic Footwear</td>\n",
       "      <td>50</td>\n",
       "      <td>1000</td>\n",
       "      <td>500000</td>\n",
       "      <td>150000</td>\n",
       "      <td>0.3</td>\n",
       "      <td>In-store</td>\n",
       "    </tr>\n",
       "    <tr>\n",
       "      <th>2</th>\n",
       "      <td>Foot Locker</td>\n",
       "      <td>1185732</td>\n",
       "      <td>2020-01-03 00:00:00</td>\n",
       "      <td>Northeast</td>\n",
       "      <td>New York</td>\n",
       "      <td>New York</td>\n",
       "      <td>Women's Street Footwear</td>\n",
       "      <td>40</td>\n",
       "      <td>1000</td>\n",
       "      <td>400000</td>\n",
       "      <td>140000</td>\n",
       "      <td>0.35</td>\n",
       "      <td>In-store</td>\n",
       "    </tr>\n",
       "    <tr>\n",
       "      <th>3</th>\n",
       "      <td>Foot Locker</td>\n",
       "      <td>1185732</td>\n",
       "      <td>2020-01-04 00:00:00</td>\n",
       "      <td>Northeast</td>\n",
       "      <td>New York</td>\n",
       "      <td>New York</td>\n",
       "      <td>Women's Athletic Footwear</td>\n",
       "      <td>45</td>\n",
       "      <td>850</td>\n",
       "      <td>382500</td>\n",
       "      <td>133875</td>\n",
       "      <td>0.35</td>\n",
       "      <td>In-store</td>\n",
       "    </tr>\n",
       "    <tr>\n",
       "      <th>4</th>\n",
       "      <td>Foot Locker</td>\n",
       "      <td>1185732</td>\n",
       "      <td>2020-01-05 00:00:00</td>\n",
       "      <td>Northeast</td>\n",
       "      <td>New York</td>\n",
       "      <td>New York</td>\n",
       "      <td>Men's Apparel</td>\n",
       "      <td>60</td>\n",
       "      <td>900</td>\n",
       "      <td>540000</td>\n",
       "      <td>162000</td>\n",
       "      <td>0.3</td>\n",
       "      <td>In-store</td>\n",
       "    </tr>\n",
       "  </tbody>\n",
       "</table>\n",
       "</div>"
      ],
      "text/plain": [
       "3     Retailer Retailer ID         Invoice Date     Region     State  \\\n",
       "0  Foot Locker     1185732  2020-01-01 00:00:00  Northeast  New York   \n",
       "1  Foot Locker     1185732  2020-01-02 00:00:00  Northeast  New York   \n",
       "2  Foot Locker     1185732  2020-01-03 00:00:00  Northeast  New York   \n",
       "3  Foot Locker     1185732  2020-01-04 00:00:00  Northeast  New York   \n",
       "4  Foot Locker     1185732  2020-01-05 00:00:00  Northeast  New York   \n",
       "\n",
       "3      City                    Product Price per Unit Units Sold Total Sales  \\\n",
       "0  New York      Men's Street Footwear             50       1200      600000   \n",
       "1  New York    Men's Athletic Footwear             50       1000      500000   \n",
       "2  New York    Women's Street Footwear             40       1000      400000   \n",
       "3  New York  Women's Athletic Footwear             45        850      382500   \n",
       "4  New York              Men's Apparel             60        900      540000   \n",
       "\n",
       "3 Operating Profit Operating Margin Sales Method  \n",
       "0           300000              0.5     In-store  \n",
       "1           150000              0.3     In-store  \n",
       "2           140000             0.35     In-store  \n",
       "3           133875             0.35     In-store  \n",
       "4           162000              0.3     In-store  "
      ]
     },
     "execution_count": 10,
     "metadata": {},
     "output_type": "execute_result"
    }
   ],
   "source": [
    "df.head()"
   ]
  },
  {
   "cell_type": "code",
   "execution_count": 11,
   "id": "a1594b3c",
   "metadata": {
    "execution": {
     "iopub.execute_input": "2022-12-24T23:39:13.237182Z",
     "iopub.status.busy": "2022-12-24T23:39:13.236758Z",
     "iopub.status.idle": "2022-12-24T23:39:13.256623Z",
     "shell.execute_reply": "2022-12-24T23:39:13.254651Z"
    },
    "papermill": {
     "duration": 0.037036,
     "end_time": "2022-12-24T23:39:13.259333",
     "exception": false,
     "start_time": "2022-12-24T23:39:13.222297",
     "status": "completed"
    },
    "tags": []
   },
   "outputs": [
    {
     "name": "stdout",
     "output_type": "stream",
     "text": [
      "<class 'pandas.core.frame.DataFrame'>\n",
      "RangeIndex: 9648 entries, 0 to 9647\n",
      "Data columns (total 13 columns):\n",
      " #   Column            Non-Null Count  Dtype \n",
      "---  ------            --------------  ----- \n",
      " 0   Retailer          9648 non-null   object\n",
      " 1   Retailer ID       9648 non-null   object\n",
      " 2   Invoice Date      9648 non-null   object\n",
      " 3   Region            9648 non-null   object\n",
      " 4   State             9648 non-null   object\n",
      " 5   City              9648 non-null   object\n",
      " 6   Product           9648 non-null   object\n",
      " 7   Price per Unit    9648 non-null   object\n",
      " 8   Units Sold        9648 non-null   object\n",
      " 9   Total Sales       9648 non-null   object\n",
      " 10  Operating Profit  9648 non-null   object\n",
      " 11  Operating Margin  9648 non-null   object\n",
      " 12  Sales Method      9648 non-null   object\n",
      "dtypes: object(13)\n",
      "memory usage: 980.0+ KB\n"
     ]
    }
   ],
   "source": [
    "df.info()"
   ]
  },
  {
   "cell_type": "markdown",
   "id": "efb85c27",
   "metadata": {
    "papermill": {
     "duration": 0.012709,
     "end_time": "2022-12-24T23:39:13.285224",
     "exception": false,
     "start_time": "2022-12-24T23:39:13.272515",
     "status": "completed"
    },
    "tags": []
   },
   "source": [
    "# Data Analysis:"
   ]
  },
  {
   "cell_type": "code",
   "execution_count": 12,
   "id": "b401c871",
   "metadata": {
    "execution": {
     "iopub.execute_input": "2022-12-24T23:39:13.313740Z",
     "iopub.status.busy": "2022-12-24T23:39:13.312660Z",
     "iopub.status.idle": "2022-12-24T23:39:13.370244Z",
     "shell.execute_reply": "2022-12-24T23:39:13.369385Z"
    },
    "papermill": {
     "duration": 0.074109,
     "end_time": "2022-12-24T23:39:13.372407",
     "exception": false,
     "start_time": "2022-12-24T23:39:13.298298",
     "status": "completed"
    },
    "tags": []
   },
   "outputs": [
    {
     "data": {
      "text/html": [
       "<div>\n",
       "<style scoped>\n",
       "    .dataframe tbody tr th:only-of-type {\n",
       "        vertical-align: middle;\n",
       "    }\n",
       "\n",
       "    .dataframe tbody tr th {\n",
       "        vertical-align: top;\n",
       "    }\n",
       "\n",
       "    .dataframe thead th {\n",
       "        text-align: right;\n",
       "    }\n",
       "</style>\n",
       "<table border=\"1\" class=\"dataframe\">\n",
       "  <thead>\n",
       "    <tr style=\"text-align: right;\">\n",
       "      <th>3</th>\n",
       "      <th>Retailer</th>\n",
       "      <th>Retailer ID</th>\n",
       "      <th>Invoice Date</th>\n",
       "      <th>Region</th>\n",
       "      <th>State</th>\n",
       "      <th>City</th>\n",
       "      <th>Product</th>\n",
       "      <th>Price per Unit</th>\n",
       "      <th>Units Sold</th>\n",
       "      <th>Total Sales</th>\n",
       "      <th>Operating Profit</th>\n",
       "      <th>Operating Margin</th>\n",
       "      <th>Sales Method</th>\n",
       "    </tr>\n",
       "  </thead>\n",
       "  <tbody>\n",
       "    <tr>\n",
       "      <th>count</th>\n",
       "      <td>9648</td>\n",
       "      <td>9648</td>\n",
       "      <td>9648</td>\n",
       "      <td>9648</td>\n",
       "      <td>9648</td>\n",
       "      <td>9648</td>\n",
       "      <td>9648</td>\n",
       "      <td>9648.0</td>\n",
       "      <td>9648</td>\n",
       "      <td>9648.0</td>\n",
       "      <td>9648.0</td>\n",
       "      <td>9648.00</td>\n",
       "      <td>9648</td>\n",
       "    </tr>\n",
       "    <tr>\n",
       "      <th>unique</th>\n",
       "      <td>6</td>\n",
       "      <td>4</td>\n",
       "      <td>724</td>\n",
       "      <td>5</td>\n",
       "      <td>50</td>\n",
       "      <td>52</td>\n",
       "      <td>6</td>\n",
       "      <td>146.0</td>\n",
       "      <td>361</td>\n",
       "      <td>3512.0</td>\n",
       "      <td>6510.0</td>\n",
       "      <td>127.00</td>\n",
       "      <td>3</td>\n",
       "    </tr>\n",
       "    <tr>\n",
       "      <th>top</th>\n",
       "      <td>Foot Locker</td>\n",
       "      <td>1185732</td>\n",
       "      <td>2021-01-17 00:00:00</td>\n",
       "      <td>West</td>\n",
       "      <td>California</td>\n",
       "      <td>Portland</td>\n",
       "      <td>Men's Street Footwear</td>\n",
       "      <td>50.0</td>\n",
       "      <td>225</td>\n",
       "      <td>100000.0</td>\n",
       "      <td>21000.0</td>\n",
       "      <td>0.35</td>\n",
       "      <td>Online</td>\n",
       "    </tr>\n",
       "    <tr>\n",
       "      <th>freq</th>\n",
       "      <td>2637</td>\n",
       "      <td>5265</td>\n",
       "      <td>77</td>\n",
       "      <td>2448</td>\n",
       "      <td>432</td>\n",
       "      <td>360</td>\n",
       "      <td>1610</td>\n",
       "      <td>557.0</td>\n",
       "      <td>207</td>\n",
       "      <td>52.0</td>\n",
       "      <td>34.0</td>\n",
       "      <td>1229.00</td>\n",
       "      <td>4889</td>\n",
       "    </tr>\n",
       "  </tbody>\n",
       "</table>\n",
       "</div>"
      ],
      "text/plain": [
       "3          Retailer  Retailer ID         Invoice Date Region       State  \\\n",
       "count          9648         9648                 9648   9648        9648   \n",
       "unique            6            4                  724      5          50   \n",
       "top     Foot Locker      1185732  2021-01-17 00:00:00   West  California   \n",
       "freq           2637         5265                   77   2448         432   \n",
       "\n",
       "3           City                Product  Price per Unit  Units Sold  \\\n",
       "count       9648                   9648          9648.0        9648   \n",
       "unique        52                      6           146.0         361   \n",
       "top     Portland  Men's Street Footwear            50.0         225   \n",
       "freq         360                   1610           557.0         207   \n",
       "\n",
       "3       Total Sales  Operating Profit  Operating Margin Sales Method  \n",
       "count        9648.0            9648.0           9648.00         9648  \n",
       "unique       3512.0            6510.0            127.00            3  \n",
       "top        100000.0           21000.0              0.35       Online  \n",
       "freq           52.0              34.0           1229.00         4889  "
      ]
     },
     "execution_count": 12,
     "metadata": {},
     "output_type": "execute_result"
    }
   ],
   "source": [
    "df.describe()"
   ]
  },
  {
   "cell_type": "code",
   "execution_count": 13,
   "id": "fb44bf78",
   "metadata": {
    "execution": {
     "iopub.execute_input": "2022-12-24T23:39:13.401002Z",
     "iopub.status.busy": "2022-12-24T23:39:13.400550Z",
     "iopub.status.idle": "2022-12-24T23:39:13.412779Z",
     "shell.execute_reply": "2022-12-24T23:39:13.411664Z"
    },
    "papermill": {
     "duration": 0.029424,
     "end_time": "2022-12-24T23:39:13.415274",
     "exception": false,
     "start_time": "2022-12-24T23:39:13.385850",
     "status": "completed"
    },
    "tags": []
   },
   "outputs": [],
   "source": [
    "top_products= df[['Product','Total Sales']].groupby('Product').sum()"
   ]
  },
  {
   "cell_type": "code",
   "execution_count": 14,
   "id": "dd9b0e8c",
   "metadata": {
    "execution": {
     "iopub.execute_input": "2022-12-24T23:39:13.444048Z",
     "iopub.status.busy": "2022-12-24T23:39:13.442777Z",
     "iopub.status.idle": "2022-12-24T23:39:13.453253Z",
     "shell.execute_reply": "2022-12-24T23:39:13.452345Z"
    },
    "papermill": {
     "duration": 0.026947,
     "end_time": "2022-12-24T23:39:13.455330",
     "exception": false,
     "start_time": "2022-12-24T23:39:13.428383",
     "status": "completed"
    },
    "tags": []
   },
   "outputs": [
    {
     "data": {
      "text/html": [
       "<div>\n",
       "<style scoped>\n",
       "    .dataframe tbody tr th:only-of-type {\n",
       "        vertical-align: middle;\n",
       "    }\n",
       "\n",
       "    .dataframe tbody tr th {\n",
       "        vertical-align: top;\n",
       "    }\n",
       "\n",
       "    .dataframe thead th {\n",
       "        text-align: right;\n",
       "    }\n",
       "</style>\n",
       "<table border=\"1\" class=\"dataframe\">\n",
       "  <thead>\n",
       "    <tr style=\"text-align: right;\">\n",
       "      <th>3</th>\n",
       "      <th>Total Sales</th>\n",
       "    </tr>\n",
       "    <tr>\n",
       "      <th>Product</th>\n",
       "      <th></th>\n",
       "    </tr>\n",
       "  </thead>\n",
       "  <tbody>\n",
       "    <tr>\n",
       "      <th>Men's Apparel</th>\n",
       "      <td>123728632.0</td>\n",
       "    </tr>\n",
       "    <tr>\n",
       "      <th>Men's Athletic Footwear</th>\n",
       "      <td>153673680.0</td>\n",
       "    </tr>\n",
       "    <tr>\n",
       "      <th>Men's Street Footwear</th>\n",
       "      <td>208826244.0</td>\n",
       "    </tr>\n",
       "    <tr>\n",
       "      <th>Women's Apparel</th>\n",
       "      <td>179038860.0</td>\n",
       "    </tr>\n",
       "    <tr>\n",
       "      <th>Women's Athletic Footwear</th>\n",
       "      <td>106631896.0</td>\n",
       "    </tr>\n",
       "    <tr>\n",
       "      <th>Women's Street Footwear</th>\n",
       "      <td>128002813.0</td>\n",
       "    </tr>\n",
       "  </tbody>\n",
       "</table>\n",
       "</div>"
      ],
      "text/plain": [
       "3                          Total Sales\n",
       "Product                               \n",
       "Men's Apparel              123728632.0\n",
       "Men's Athletic Footwear    153673680.0\n",
       "Men's Street Footwear      208826244.0\n",
       "Women's Apparel            179038860.0\n",
       "Women's Athletic Footwear  106631896.0\n",
       "Women's Street Footwear    128002813.0"
      ]
     },
     "execution_count": 14,
     "metadata": {},
     "output_type": "execute_result"
    }
   ],
   "source": [
    "top_products"
   ]
  },
  {
   "cell_type": "code",
   "execution_count": 15,
   "id": "a9a435aa",
   "metadata": {
    "execution": {
     "iopub.execute_input": "2022-12-24T23:39:13.483454Z",
     "iopub.status.busy": "2022-12-24T23:39:13.483043Z",
     "iopub.status.idle": "2022-12-24T23:39:13.789025Z",
     "shell.execute_reply": "2022-12-24T23:39:13.787868Z"
    },
    "papermill": {
     "duration": 0.322638,
     "end_time": "2022-12-24T23:39:13.791254",
     "exception": false,
     "start_time": "2022-12-24T23:39:13.468616",
     "status": "completed"
    },
    "tags": []
   },
   "outputs": [
    {
     "data": {
      "image/png": "[encoded data removed]",
      "text/plain": [
       "<Figure size 864x504 with 1 Axes>"
      ]
     },
     "metadata": {
      "needs_background": "light"
     },
     "output_type": "display_data"
    }
   ],
   "source": [
    "top_products.plot(kind='bar',figsize=(12,7),title='Total sales per Product')\n",
    "plt.show()"
   ]
  },
  {
   "cell_type": "markdown",
   "id": "88f6c3ba",
   "metadata": {
    "papermill": {
     "duration": 0.01415,
     "end_time": "2022-12-24T23:39:13.819650",
     "exception": false,
     "start_time": "2022-12-24T23:39:13.805500",
     "status": "completed"
    },
    "tags": []
   },
   "source": [
    "**Men's Street Footwear has the highest sales amount**"
   ]
  },
  {
   "cell_type": "code",
   "execution_count": 16,
   "id": "2e8549a5",
   "metadata": {
    "execution": {
     "iopub.execute_input": "2022-12-24T23:39:13.848879Z",
     "iopub.status.busy": "2022-12-24T23:39:13.848466Z",
     "iopub.status.idle": "2022-12-24T23:39:13.858248Z",
     "shell.execute_reply": "2022-12-24T23:39:13.857427Z"
    },
    "papermill": {
     "duration": 0.026905,
     "end_time": "2022-12-24T23:39:13.860470",
     "exception": false,
     "start_time": "2022-12-24T23:39:13.833565",
     "status": "completed"
    },
    "tags": []
   },
   "outputs": [],
   "source": [
    "top_retailers= df[['Retailer','Total Sales']].groupby('Retailer').sum()"
   ]
  },
  {
   "cell_type": "code",
   "execution_count": 17,
   "id": "927b8c4b",
   "metadata": {
    "execution": {
     "iopub.execute_input": "2022-12-24T23:39:13.890349Z",
     "iopub.status.busy": "2022-12-24T23:39:13.889487Z",
     "iopub.status.idle": "2022-12-24T23:39:14.214462Z",
     "shell.execute_reply": "2022-12-24T23:39:14.213302Z"
    },
    "papermill": {
     "duration": 0.342368,
     "end_time": "2022-12-24T23:39:14.216654",
     "exception": false,
     "start_time": "2022-12-24T23:39:13.874286",
     "status": "completed"
    },
    "tags": []
   },
   "outputs": [
    {
     "data": {
      "text/plain": [
       "array([<AxesSubplot:ylabel='Total Sales'>], dtype=object)"
      ]
     },
     "execution_count": 17,
     "metadata": {},
     "output_type": "execute_result"
    },
    {
     "data": {
      "image/png": "[encoded data removed]",
      "text/plain": [
       "<Figure size 864x504 with 1 Axes>"
      ]
     },
     "metadata": {},
     "output_type": "display_data"
    }
   ],
   "source": [
    "top_retailers.plot(kind='pie',subplots=True,figsize=(12,7),title='Total sales per Retailer',autopct='%1.0f%%')"
   ]
  },
  {
   "cell_type": "markdown",
   "id": "ccc75516",
   "metadata": {
    "papermill": {
     "duration": 0.014417,
     "end_time": "2022-12-24T23:39:14.245722",
     "exception": false,
     "start_time": "2022-12-24T23:39:14.231305",
     "status": "completed"
    },
    "tags": []
   },
   "source": [
    "**Men's Street Footwear has the highest sales amount**\n"
   ]
  },
  {
   "cell_type": "code",
   "execution_count": 18,
   "id": "8aad6e1c",
   "metadata": {
    "execution": {
     "iopub.execute_input": "2022-12-24T23:39:14.277115Z",
     "iopub.status.busy": "2022-12-24T23:39:14.276665Z",
     "iopub.status.idle": "2022-12-24T23:39:14.557779Z",
     "shell.execute_reply": "2022-12-24T23:39:14.556653Z"
    },
    "papermill": {
     "duration": 0.299427,
     "end_time": "2022-12-24T23:39:14.560231",
     "exception": false,
     "start_time": "2022-12-24T23:39:14.260804",
     "status": "completed"
    },
    "tags": []
   },
   "outputs": [
    {
     "data": {
      "text/plain": [
       "<AxesSubplot:title={'center':'Products price distribution'}, ylabel='Frequency'>"
      ]
     },
     "execution_count": 18,
     "metadata": {},
     "output_type": "execute_result"
    },
    {
     "data": {
      "image/png": "[encoded data removed]",
      "text/plain": [
       "<Figure size 864x504 with 1 Axes>"
      ]
     },
     "metadata": {
      "needs_background": "light"
     },
     "output_type": "display_data"
    }
   ],
   "source": [
    "df['Price per Unit'].plot(kind='hist',bins=25,figsize=(12,7),title='Products price distribution')"
   ]
  },
  {
   "cell_type": "code",
   "execution_count": 19,
   "id": "57ad5b8e",
   "metadata": {
    "execution": {
     "iopub.execute_input": "2022-12-24T23:39:14.592356Z",
     "iopub.status.busy": "2022-12-24T23:39:14.591436Z",
     "iopub.status.idle": "2022-12-24T23:39:14.599950Z",
     "shell.execute_reply": "2022-12-24T23:39:14.598905Z"
    },
    "papermill": {
     "duration": 0.026855,
     "end_time": "2022-12-24T23:39:14.602226",
     "exception": false,
     "start_time": "2022-12-24T23:39:14.575371",
     "status": "completed"
    },
    "tags": []
   },
   "outputs": [
    {
     "data": {
      "text/plain": [
       "45.21662520729685"
      ]
     },
     "execution_count": 19,
     "metadata": {},
     "output_type": "execute_result"
    }
   ],
   "source": [
    "df['Price per Unit'].mean()"
   ]
  },
  {
   "cell_type": "markdown",
   "id": "ee229323",
   "metadata": {
    "papermill": {
     "duration": 0.01448,
     "end_time": "2022-12-24T23:39:14.631638",
     "exception": false,
     "start_time": "2022-12-24T23:39:14.617158",
     "status": "completed"
    },
    "tags": []
   },
   "source": [
    "**Most of the price range between $40 - $60 and the average product price is $45.22**"
   ]
  },
  {
   "cell_type": "code",
   "execution_count": 20,
   "id": "d593961a",
   "metadata": {
    "execution": {
     "iopub.execute_input": "2022-12-24T23:39:14.663471Z",
     "iopub.status.busy": "2022-12-24T23:39:14.663024Z",
     "iopub.status.idle": "2022-12-24T23:39:14.674314Z",
     "shell.execute_reply": "2022-12-24T23:39:14.673169Z"
    },
    "papermill": {
     "duration": 0.030134,
     "end_time": "2022-12-24T23:39:14.676971",
     "exception": false,
     "start_time": "2022-12-24T23:39:14.646837",
     "status": "completed"
    },
    "tags": []
   },
   "outputs": [],
   "source": [
    "top_salesmt= df[['Sales Method','Total Sales']].groupby('Sales Method').sum()"
   ]
  },
  {
   "cell_type": "code",
   "execution_count": 21,
   "id": "168c346b",
   "metadata": {
    "execution": {
     "iopub.execute_input": "2022-12-24T23:39:14.708678Z",
     "iopub.status.busy": "2022-12-24T23:39:14.708264Z",
     "iopub.status.idle": "2022-12-24T23:39:14.938539Z",
     "shell.execute_reply": "2022-12-24T23:39:14.937385Z"
    },
    "papermill": {
     "duration": 0.249077,
     "end_time": "2022-12-24T23:39:14.941154",
     "exception": false,
     "start_time": "2022-12-24T23:39:14.692077",
     "status": "completed"
    },
    "tags": []
   },
   "outputs": [
    {
     "data": {
      "text/plain": [
       "<AxesSubplot:title={'center':'Top Selling Methods'}, ylabel='Sales Method'>"
      ]
     },
     "execution_count": 21,
     "metadata": {},
     "output_type": "execute_result"
    },
    {
     "data": {
      "image/png": "[encoded data removed]",
      "text/plain": [
       "<Figure size 432x288 with 1 Axes>"
      ]
     },
     "metadata": {
      "needs_background": "light"
     },
     "output_type": "display_data"
    }
   ],
   "source": [
    "top_salesmt.plot(kind='barh',title='Top Selling Methods')"
   ]
  },
  {
   "cell_type": "markdown",
   "id": "4f331647",
   "metadata": {
    "papermill": {
     "duration": 0.015123,
     "end_time": "2022-12-24T23:39:14.971873",
     "exception": false,
     "start_time": "2022-12-24T23:39:14.956750",
     "status": "completed"
    },
    "tags": []
   },
   "source": [
    "**It's clear that retailers sell more products in-store**"
   ]
  },
  {
   "cell_type": "markdown",
   "id": "9b47efa7",
   "metadata": {
    "papermill": {
     "duration": 0.015081,
     "end_time": "2022-12-24T23:39:15.002399",
     "exception": false,
     "start_time": "2022-12-24T23:39:14.987318",
     "status": "completed"
    },
    "tags": []
   },
   "source": [
    "# Machine Learning Part"
   ]
  },
  {
   "cell_type": "code",
   "execution_count": 22,
   "id": "d31431b9",
   "metadata": {
    "execution": {
     "iopub.execute_input": "2022-12-24T23:39:15.035510Z",
     "iopub.status.busy": "2022-12-24T23:39:15.034715Z",
     "iopub.status.idle": "2022-12-24T23:39:15.293996Z",
     "shell.execute_reply": "2022-12-24T23:39:15.292873Z"
    },
    "papermill": {
     "duration": 0.279091,
     "end_time": "2022-12-24T23:39:15.296886",
     "exception": false,
     "start_time": "2022-12-24T23:39:15.017795",
     "status": "completed"
    },
    "tags": []
   },
   "outputs": [],
   "source": [
    "\n",
    "from sklearn.model_selection import train_test_split\n",
    "from sklearn.linear_model import LinearRegression\n",
    "from sklearn import metrics\n",
    "from sklearn.metrics import r2_score"
   ]
  },
  {
   "cell_type": "markdown",
   "id": "17ff7a3e",
   "metadata": {
    "papermill": {
     "duration": 0.015222,
     "end_time": "2022-12-24T23:39:15.327707",
     "exception": false,
     "start_time": "2022-12-24T23:39:15.312485",
     "status": "completed"
    },
    "tags": []
   },
   "source": [
    "**Creating a copy**"
   ]
  },
  {
   "cell_type": "code",
   "execution_count": 23,
   "id": "efb492c9",
   "metadata": {
    "execution": {
     "iopub.execute_input": "2022-12-24T23:39:15.360660Z",
     "iopub.status.busy": "2022-12-24T23:39:15.360283Z",
     "iopub.status.idle": "2022-12-24T23:39:15.367618Z",
     "shell.execute_reply": "2022-12-24T23:39:15.366627Z"
    },
    "papermill": {
     "duration": 0.026644,
     "end_time": "2022-12-24T23:39:15.369868",
     "exception": false,
     "start_time": "2022-12-24T23:39:15.343224",
     "status": "completed"
    },
    "tags": []
   },
   "outputs": [],
   "source": [
    "df2=df.copy()"
   ]
  },
  {
   "cell_type": "code",
   "execution_count": 24,
   "id": "ba33147e",
   "metadata": {
    "execution": {
     "iopub.execute_input": "2022-12-24T23:39:15.403291Z",
     "iopub.status.busy": "2022-12-24T23:39:15.402600Z",
     "iopub.status.idle": "2022-12-24T23:39:15.423920Z",
     "shell.execute_reply": "2022-12-24T23:39:15.422722Z"
    },
    "papermill": {
     "duration": 0.041086,
     "end_time": "2022-12-24T23:39:15.426739",
     "exception": false,
     "start_time": "2022-12-24T23:39:15.385653",
     "status": "completed"
    },
    "tags": []
   },
   "outputs": [],
   "source": [
    "df2['Region']=pd.factorize(df2.Region)[0]\n",
    "df2['State']=pd.factorize(df2.State)[0]\n",
    "df2['City']=pd.factorize(df2.City)[0]\n",
    "df2['Product']=pd.factorize(df2.Product)[0]\n",
    "df2['Retailer']=pd.factorize(df2.Retailer)[0]\n"
   ]
  },
  {
   "cell_type": "code",
   "execution_count": 25,
   "id": "64d826c3",
   "metadata": {
    "execution": {
     "iopub.execute_input": "2022-12-24T23:39:15.460358Z",
     "iopub.status.busy": "2022-12-24T23:39:15.459920Z",
     "iopub.status.idle": "2022-12-24T23:39:15.466512Z",
     "shell.execute_reply": "2022-12-24T23:39:15.465132Z"
    },
    "papermill": {
     "duration": 0.026521,
     "end_time": "2022-12-24T23:39:15.469039",
     "exception": false,
     "start_time": "2022-12-24T23:39:15.442518",
     "status": "completed"
    },
    "tags": []
   },
   "outputs": [],
   "source": [
    "df2.rename(columns = {'Sales Method':'Method'}, inplace = True)"
   ]
  },
  {
   "cell_type": "code",
   "execution_count": 26,
   "id": "5c1717cc",
   "metadata": {
    "execution": {
     "iopub.execute_input": "2022-12-24T23:39:15.502710Z",
     "iopub.status.busy": "2022-12-24T23:39:15.501460Z",
     "iopub.status.idle": "2022-12-24T23:39:15.509648Z",
     "shell.execute_reply": "2022-12-24T23:39:15.508877Z"
    },
    "papermill": {
     "duration": 0.027573,
     "end_time": "2022-12-24T23:39:15.512258",
     "exception": false,
     "start_time": "2022-12-24T23:39:15.484685",
     "status": "completed"
    },
    "tags": []
   },
   "outputs": [],
   "source": [
    "df2['Method']=pd.factorize(df2.Method)[0]"
   ]
  },
  {
   "cell_type": "code",
   "execution_count": 27,
   "id": "d0cb1546",
   "metadata": {
    "execution": {
     "iopub.execute_input": "2022-12-24T23:39:15.545092Z",
     "iopub.status.busy": "2022-12-24T23:39:15.544537Z",
     "iopub.status.idle": "2022-12-24T23:39:15.552160Z",
     "shell.execute_reply": "2022-12-24T23:39:15.551279Z"
    },
    "papermill": {
     "duration": 0.026673,
     "end_time": "2022-12-24T23:39:15.554423",
     "exception": false,
     "start_time": "2022-12-24T23:39:15.527750",
     "status": "completed"
    },
    "tags": []
   },
   "outputs": [],
   "source": [
    "df2 = df2.drop('Retailer ID',axis=1)\n"
   ]
  },
  {
   "cell_type": "code",
   "execution_count": 28,
   "id": "d136e8bc",
   "metadata": {
    "execution": {
     "iopub.execute_input": "2022-12-24T23:39:15.587639Z",
     "iopub.status.busy": "2022-12-24T23:39:15.586879Z",
     "iopub.status.idle": "2022-12-24T23:39:15.593934Z",
     "shell.execute_reply": "2022-12-24T23:39:15.593017Z"
    },
    "papermill": {
     "duration": 0.026335,
     "end_time": "2022-12-24T23:39:15.596324",
     "exception": false,
     "start_time": "2022-12-24T23:39:15.569989",
     "status": "completed"
    },
    "tags": []
   },
   "outputs": [],
   "source": [
    "df2 = df2.drop('Invoice Date',axis=1)"
   ]
  },
  {
   "cell_type": "code",
   "execution_count": 29,
   "id": "03446057",
   "metadata": {
    "execution": {
     "iopub.execute_input": "2022-12-24T23:39:15.629681Z",
     "iopub.status.busy": "2022-12-24T23:39:15.628910Z",
     "iopub.status.idle": "2022-12-24T23:39:15.645315Z",
     "shell.execute_reply": "2022-12-24T23:39:15.644181Z"
    },
    "papermill": {
     "duration": 0.035687,
     "end_time": "2022-12-24T23:39:15.647598",
     "exception": false,
     "start_time": "2022-12-24T23:39:15.611911",
     "status": "completed"
    },
    "tags": []
   },
   "outputs": [
    {
     "data": {
      "text/html": [
       "<div>\n",
       "<style scoped>\n",
       "    .dataframe tbody tr th:only-of-type {\n",
       "        vertical-align: middle;\n",
       "    }\n",
       "\n",
       "    .dataframe tbody tr th {\n",
       "        vertical-align: top;\n",
       "    }\n",
       "\n",
       "    .dataframe thead th {\n",
       "        text-align: right;\n",
       "    }\n",
       "</style>\n",
       "<table border=\"1\" class=\"dataframe\">\n",
       "  <thead>\n",
       "    <tr style=\"text-align: right;\">\n",
       "      <th>3</th>\n",
       "      <th>Retailer</th>\n",
       "      <th>Region</th>\n",
       "      <th>State</th>\n",
       "      <th>City</th>\n",
       "      <th>Product</th>\n",
       "      <th>Price per Unit</th>\n",
       "      <th>Units Sold</th>\n",
       "      <th>Total Sales</th>\n",
       "      <th>Operating Profit</th>\n",
       "      <th>Operating Margin</th>\n",
       "      <th>Method</th>\n",
       "    </tr>\n",
       "  </thead>\n",
       "  <tbody>\n",
       "    <tr>\n",
       "      <th>0</th>\n",
       "      <td>0</td>\n",
       "      <td>0</td>\n",
       "      <td>0</td>\n",
       "      <td>0</td>\n",
       "      <td>0</td>\n",
       "      <td>50</td>\n",
       "      <td>1200</td>\n",
       "      <td>600000</td>\n",
       "      <td>300000</td>\n",
       "      <td>0.5</td>\n",
       "      <td>0</td>\n",
       "    </tr>\n",
       "    <tr>\n",
       "      <th>1</th>\n",
       "      <td>0</td>\n",
       "      <td>0</td>\n",
       "      <td>0</td>\n",
       "      <td>0</td>\n",
       "      <td>1</td>\n",
       "      <td>50</td>\n",
       "      <td>1000</td>\n",
       "      <td>500000</td>\n",
       "      <td>150000</td>\n",
       "      <td>0.3</td>\n",
       "      <td>0</td>\n",
       "    </tr>\n",
       "    <tr>\n",
       "      <th>2</th>\n",
       "      <td>0</td>\n",
       "      <td>0</td>\n",
       "      <td>0</td>\n",
       "      <td>0</td>\n",
       "      <td>2</td>\n",
       "      <td>40</td>\n",
       "      <td>1000</td>\n",
       "      <td>400000</td>\n",
       "      <td>140000</td>\n",
       "      <td>0.35</td>\n",
       "      <td>0</td>\n",
       "    </tr>\n",
       "    <tr>\n",
       "      <th>3</th>\n",
       "      <td>0</td>\n",
       "      <td>0</td>\n",
       "      <td>0</td>\n",
       "      <td>0</td>\n",
       "      <td>3</td>\n",
       "      <td>45</td>\n",
       "      <td>850</td>\n",
       "      <td>382500</td>\n",
       "      <td>133875</td>\n",
       "      <td>0.35</td>\n",
       "      <td>0</td>\n",
       "    </tr>\n",
       "    <tr>\n",
       "      <th>4</th>\n",
       "      <td>0</td>\n",
       "      <td>0</td>\n",
       "      <td>0</td>\n",
       "      <td>0</td>\n",
       "      <td>4</td>\n",
       "      <td>60</td>\n",
       "      <td>900</td>\n",
       "      <td>540000</td>\n",
       "      <td>162000</td>\n",
       "      <td>0.3</td>\n",
       "      <td>0</td>\n",
       "    </tr>\n",
       "  </tbody>\n",
       "</table>\n",
       "</div>"
      ],
      "text/plain": [
       "3  Retailer  Region  State  City  Product Price per Unit Units Sold  \\\n",
       "0         0       0      0     0        0             50       1200   \n",
       "1         0       0      0     0        1             50       1000   \n",
       "2         0       0      0     0        2             40       1000   \n",
       "3         0       0      0     0        3             45        850   \n",
       "4         0       0      0     0        4             60        900   \n",
       "\n",
       "3 Total Sales Operating Profit Operating Margin  Method  \n",
       "0      600000           300000              0.5       0  \n",
       "1      500000           150000              0.3       0  \n",
       "2      400000           140000             0.35       0  \n",
       "3      382500           133875             0.35       0  \n",
       "4      540000           162000              0.3       0  "
      ]
     },
     "execution_count": 29,
     "metadata": {},
     "output_type": "execute_result"
    }
   ],
   "source": [
    "df2.head()"
   ]
  },
  {
   "cell_type": "code",
   "execution_count": 30,
   "id": "73da96f8",
   "metadata": {
    "execution": {
     "iopub.execute_input": "2022-12-24T23:39:15.681643Z",
     "iopub.status.busy": "2022-12-24T23:39:15.680909Z",
     "iopub.status.idle": "2022-12-24T23:39:15.691662Z",
     "shell.execute_reply": "2022-12-24T23:39:15.690757Z"
    },
    "papermill": {
     "duration": 0.030669,
     "end_time": "2022-12-24T23:39:15.694165",
     "exception": false,
     "start_time": "2022-12-24T23:39:15.663496",
     "status": "completed"
    },
    "tags": []
   },
   "outputs": [],
   "source": [
    "df2['Units Sold'] = df2['Units Sold'].astype(int)\n",
    "df2['Total Sales'] = df2['Total Sales'].astype(int)\n",
    "df2['Operating Profit'] = df2['Operating Profit'].astype(int)\n",
    "df2['Retailer'] = df2['Retailer'].astype(int)\n"
   ]
  },
  {
   "cell_type": "code",
   "execution_count": 31,
   "id": "987b9d7a",
   "metadata": {
    "execution": {
     "iopub.execute_input": "2022-12-24T23:39:15.728765Z",
     "iopub.status.busy": "2022-12-24T23:39:15.728081Z",
     "iopub.status.idle": "2022-12-24T23:39:15.742725Z",
     "shell.execute_reply": "2022-12-24T23:39:15.741465Z"
    },
    "papermill": {
     "duration": 0.034861,
     "end_time": "2022-12-24T23:39:15.745239",
     "exception": false,
     "start_time": "2022-12-24T23:39:15.710378",
     "status": "completed"
    },
    "tags": []
   },
   "outputs": [
    {
     "name": "stdout",
     "output_type": "stream",
     "text": [
      "<class 'pandas.core.frame.DataFrame'>\n",
      "RangeIndex: 9648 entries, 0 to 9647\n",
      "Data columns (total 11 columns):\n",
      " #   Column            Non-Null Count  Dtype \n",
      "---  ------            --------------  ----- \n",
      " 0   Retailer          9648 non-null   int64 \n",
      " 1   Region            9648 non-null   int64 \n",
      " 2   State             9648 non-null   int64 \n",
      " 3   City              9648 non-null   int64 \n",
      " 4   Product           9648 non-null   int64 \n",
      " 5   Price per Unit    9648 non-null   object\n",
      " 6   Units Sold        9648 non-null   int64 \n",
      " 7   Total Sales       9648 non-null   int64 \n",
      " 8   Operating Profit  9648 non-null   int64 \n",
      " 9   Operating Margin  9648 non-null   object\n",
      " 10  Method            9648 non-null   int64 \n",
      "dtypes: int64(9), object(2)\n",
      "memory usage: 829.2+ KB\n"
     ]
    }
   ],
   "source": [
    "df2.info()"
   ]
  },
  {
   "cell_type": "markdown",
   "id": "935dcc2c",
   "metadata": {
    "papermill": {
     "duration": 0.01596,
     "end_time": "2022-12-24T23:39:15.777320",
     "exception": false,
     "start_time": "2022-12-24T23:39:15.761360",
     "status": "completed"
    },
    "tags": []
   },
   "source": [
    "**Finding correlation between Features:**"
   ]
  },
  {
   "cell_type": "code",
   "execution_count": 32,
   "id": "389f817b",
   "metadata": {
    "execution": {
     "iopub.execute_input": "2022-12-24T23:39:15.810857Z",
     "iopub.status.busy": "2022-12-24T23:39:15.810174Z",
     "iopub.status.idle": "2022-12-24T23:39:15.821947Z",
     "shell.execute_reply": "2022-12-24T23:39:15.820720Z"
    },
    "papermill": {
     "duration": 0.031595,
     "end_time": "2022-12-24T23:39:15.824632",
     "exception": false,
     "start_time": "2022-12-24T23:39:15.793037",
     "status": "completed"
    },
    "tags": []
   },
   "outputs": [],
   "source": [
    "corr=df2.corr()"
   ]
  },
  {
   "cell_type": "code",
   "execution_count": 33,
   "id": "d0bf00f5",
   "metadata": {
    "execution": {
     "iopub.execute_input": "2022-12-24T23:39:15.858579Z",
     "iopub.status.busy": "2022-12-24T23:39:15.858143Z",
     "iopub.status.idle": "2022-12-24T23:39:15.869597Z",
     "shell.execute_reply": "2022-12-24T23:39:15.868113Z"
    },
    "papermill": {
     "duration": 0.031494,
     "end_time": "2022-12-24T23:39:15.871974",
     "exception": false,
     "start_time": "2022-12-24T23:39:15.840480",
     "status": "completed"
    },
    "tags": []
   },
   "outputs": [
    {
     "name": "stdout",
     "output_type": "stream",
     "text": [
      "3                 Retailer    Region     State      City   Product  \\\n",
      "3                                                                    \n",
      "Retailer          1.000000 -0.097952  0.096816  0.096194  0.002262   \n",
      "Region           -0.097952  1.000000 -0.209003 -0.176060 -0.000121   \n",
      "State             0.096816 -0.209003  1.000000  0.976045  0.000367   \n",
      "City              0.096194 -0.176060  0.976045  1.000000  0.000393   \n",
      "Product           0.002262 -0.000121  0.000367  0.000393  1.000000   \n",
      "Units Sold        0.007130  0.095324 -0.251792 -0.244089 -0.177418   \n",
      "Total Sales       0.016339  0.079305 -0.158281 -0.151011 -0.055138   \n",
      "Operating Profit  0.012788  0.072539 -0.145209 -0.137264 -0.054475   \n",
      "Method           -0.005612  0.130336 -0.013363 -0.011398 -0.000524   \n",
      "\n",
      "3                 Units Sold  Total Sales  Operating Profit    Method  \n",
      "3                                                                      \n",
      "Retailer            0.007130     0.016339          0.012788 -0.005612  \n",
      "Region              0.095324     0.079305          0.072539  0.130336  \n",
      "State              -0.251792    -0.158281         -0.145209 -0.013363  \n",
      "City               -0.244089    -0.151011         -0.137264 -0.011398  \n",
      "Product            -0.177418    -0.055138         -0.054475 -0.000524  \n",
      "Units Sold          1.000000     0.913431          0.892380 -0.355552  \n",
      "Total Sales         0.913431     1.000000          0.956308 -0.386012  \n",
      "Operating Profit    0.892380     0.956308          1.000000 -0.350035  \n",
      "Method             -0.355552    -0.386012         -0.350035  1.000000  \n"
     ]
    }
   ],
   "source": [
    "print(corr)"
   ]
  },
  {
   "cell_type": "code",
   "execution_count": 34,
   "id": "2b725842",
   "metadata": {
    "execution": {
     "iopub.execute_input": "2022-12-24T23:39:15.906063Z",
     "iopub.status.busy": "2022-12-24T23:39:15.905342Z",
     "iopub.status.idle": "2022-12-24T23:39:16.268704Z",
     "shell.execute_reply": "2022-12-24T23:39:16.267492Z"
    },
    "papermill": {
     "duration": 0.38295,
     "end_time": "2022-12-24T23:39:16.271098",
     "exception": false,
     "start_time": "2022-12-24T23:39:15.888148",
     "status": "completed"
    },
    "tags": []
   },
   "outputs": [
    {
     "data": {
      "text/plain": [
       "<AxesSubplot:xlabel='3', ylabel='3'>"
      ]
     },
     "execution_count": 34,
     "metadata": {},
     "output_type": "execute_result"
    },
    {
     "data": {
      "image/png": "[encoded data removed]",
      "text/plain": [
       "<Figure size 432x288 with 2 Axes>"
      ]
     },
     "metadata": {
      "needs_background": "light"
     },
     "output_type": "display_data"
    }
   ],
   "source": [
    "sns.heatmap(df2.corr())"
   ]
  },
  {
   "cell_type": "markdown",
   "id": "88ddc57f",
   "metadata": {
    "papermill": {
     "duration": 0.015969,
     "end_time": "2022-12-24T23:39:16.303436",
     "exception": false,
     "start_time": "2022-12-24T23:39:16.287467",
     "status": "completed"
    },
    "tags": []
   },
   "source": [
    "**We can see that Total Sales has obviously, a high colleration with operating profit, price per unit and units sold. But on the other hand, features like Region and retailer can make an impact on the Total sales amount.**"
   ]
  },
  {
   "cell_type": "markdown",
   "id": "ae40acd8",
   "metadata": {
    "papermill": {
     "duration": 0.015926,
     "end_time": "2022-12-24T23:39:16.336659",
     "exception": false,
     "start_time": "2022-12-24T23:39:16.320733",
     "status": "completed"
    },
    "tags": []
   },
   "source": [
    "**Total Sales prediction using multiple linear regression model:**"
   ]
  },
  {
   "cell_type": "code",
   "execution_count": 35,
   "id": "adeeacd3",
   "metadata": {
    "execution": {
     "iopub.execute_input": "2022-12-24T23:39:16.371789Z",
     "iopub.status.busy": "2022-12-24T23:39:16.371376Z",
     "iopub.status.idle": "2022-12-24T23:39:16.386319Z",
     "shell.execute_reply": "2022-12-24T23:39:16.385182Z"
    },
    "papermill": {
     "duration": 0.03551,
     "end_time": "2022-12-24T23:39:16.389017",
     "exception": false,
     "start_time": "2022-12-24T23:39:16.353507",
     "status": "completed"
    },
    "tags": []
   },
   "outputs": [],
   "source": [
    "X= df2.values[:,(0,1,2,3,4,5,6,8,9,10)]\n",
    "Y= df2.values[:, 7]"
   ]
  },
  {
   "cell_type": "code",
   "execution_count": 36,
   "id": "a10e62ea",
   "metadata": {
    "execution": {
     "iopub.execute_input": "2022-12-24T23:39:16.424287Z",
     "iopub.status.busy": "2022-12-24T23:39:16.423887Z",
     "iopub.status.idle": "2022-12-24T23:39:16.430907Z",
     "shell.execute_reply": "2022-12-24T23:39:16.429853Z"
    },
    "papermill": {
     "duration": 0.026873,
     "end_time": "2022-12-24T23:39:16.433090",
     "exception": false,
     "start_time": "2022-12-24T23:39:16.406217",
     "status": "completed"
    },
    "tags": []
   },
   "outputs": [
    {
     "data": {
      "text/plain": [
       "array([600000, 500000, 400000, ..., 7544, 2940, 2407], dtype=object)"
      ]
     },
     "execution_count": 36,
     "metadata": {},
     "output_type": "execute_result"
    }
   ],
   "source": [
    "Y"
   ]
  },
  {
   "cell_type": "code",
   "execution_count": 37,
   "id": "cb863a7f",
   "metadata": {
    "execution": {
     "iopub.execute_input": "2022-12-24T23:39:16.467540Z",
     "iopub.status.busy": "2022-12-24T23:39:16.466788Z",
     "iopub.status.idle": "2022-12-24T23:39:16.473643Z",
     "shell.execute_reply": "2022-12-24T23:39:16.472839Z"
    },
    "papermill": {
     "duration": 0.026348,
     "end_time": "2022-12-24T23:39:16.475686",
     "exception": false,
     "start_time": "2022-12-24T23:39:16.449338",
     "status": "completed"
    },
    "tags": []
   },
   "outputs": [
    {
     "data": {
      "text/plain": [
       "(9648, 10)"
      ]
     },
     "execution_count": 37,
     "metadata": {},
     "output_type": "execute_result"
    }
   ],
   "source": [
    "X.shape"
   ]
  },
  {
   "cell_type": "code",
   "execution_count": 38,
   "id": "0a8368f8",
   "metadata": {
    "execution": {
     "iopub.execute_input": "2022-12-24T23:39:16.510952Z",
     "iopub.status.busy": "2022-12-24T23:39:16.510497Z",
     "iopub.status.idle": "2022-12-24T23:39:16.524981Z",
     "shell.execute_reply": "2022-12-24T23:39:16.523870Z"
    },
    "papermill": {
     "duration": 0.03473,
     "end_time": "2022-12-24T23:39:16.527047",
     "exception": false,
     "start_time": "2022-12-24T23:39:16.492317",
     "status": "completed"
    },
    "tags": []
   },
   "outputs": [
    {
     "data": {
      "text/html": [
       "<div>\n",
       "<style scoped>\n",
       "    .dataframe tbody tr th:only-of-type {\n",
       "        vertical-align: middle;\n",
       "    }\n",
       "\n",
       "    .dataframe tbody tr th {\n",
       "        vertical-align: top;\n",
       "    }\n",
       "\n",
       "    .dataframe thead th {\n",
       "        text-align: right;\n",
       "    }\n",
       "</style>\n",
       "<table border=\"1\" class=\"dataframe\">\n",
       "  <thead>\n",
       "    <tr style=\"text-align: right;\">\n",
       "      <th>3</th>\n",
       "      <th>Retailer</th>\n",
       "      <th>Region</th>\n",
       "      <th>State</th>\n",
       "      <th>City</th>\n",
       "      <th>Product</th>\n",
       "      <th>Price per Unit</th>\n",
       "      <th>Units Sold</th>\n",
       "      <th>Total Sales</th>\n",
       "      <th>Operating Profit</th>\n",
       "      <th>Operating Margin</th>\n",
       "      <th>Method</th>\n",
       "    </tr>\n",
       "  </thead>\n",
       "  <tbody>\n",
       "    <tr>\n",
       "      <th>0</th>\n",
       "      <td>0</td>\n",
       "      <td>0</td>\n",
       "      <td>0</td>\n",
       "      <td>0</td>\n",
       "      <td>0</td>\n",
       "      <td>50</td>\n",
       "      <td>1200</td>\n",
       "      <td>600000</td>\n",
       "      <td>300000</td>\n",
       "      <td>0.5</td>\n",
       "      <td>0</td>\n",
       "    </tr>\n",
       "    <tr>\n",
       "      <th>1</th>\n",
       "      <td>0</td>\n",
       "      <td>0</td>\n",
       "      <td>0</td>\n",
       "      <td>0</td>\n",
       "      <td>1</td>\n",
       "      <td>50</td>\n",
       "      <td>1000</td>\n",
       "      <td>500000</td>\n",
       "      <td>150000</td>\n",
       "      <td>0.3</td>\n",
       "      <td>0</td>\n",
       "    </tr>\n",
       "    <tr>\n",
       "      <th>2</th>\n",
       "      <td>0</td>\n",
       "      <td>0</td>\n",
       "      <td>0</td>\n",
       "      <td>0</td>\n",
       "      <td>2</td>\n",
       "      <td>40</td>\n",
       "      <td>1000</td>\n",
       "      <td>400000</td>\n",
       "      <td>140000</td>\n",
       "      <td>0.35</td>\n",
       "      <td>0</td>\n",
       "    </tr>\n",
       "    <tr>\n",
       "      <th>3</th>\n",
       "      <td>0</td>\n",
       "      <td>0</td>\n",
       "      <td>0</td>\n",
       "      <td>0</td>\n",
       "      <td>3</td>\n",
       "      <td>45</td>\n",
       "      <td>850</td>\n",
       "      <td>382500</td>\n",
       "      <td>133875</td>\n",
       "      <td>0.35</td>\n",
       "      <td>0</td>\n",
       "    </tr>\n",
       "    <tr>\n",
       "      <th>4</th>\n",
       "      <td>0</td>\n",
       "      <td>0</td>\n",
       "      <td>0</td>\n",
       "      <td>0</td>\n",
       "      <td>4</td>\n",
       "      <td>60</td>\n",
       "      <td>900</td>\n",
       "      <td>540000</td>\n",
       "      <td>162000</td>\n",
       "      <td>0.3</td>\n",
       "      <td>0</td>\n",
       "    </tr>\n",
       "  </tbody>\n",
       "</table>\n",
       "</div>"
      ],
      "text/plain": [
       "3  Retailer  Region  State  City  Product Price per Unit  Units Sold  \\\n",
       "0         0       0      0     0        0             50        1200   \n",
       "1         0       0      0     0        1             50        1000   \n",
       "2         0       0      0     0        2             40        1000   \n",
       "3         0       0      0     0        3             45         850   \n",
       "4         0       0      0     0        4             60         900   \n",
       "\n",
       "3  Total Sales  Operating Profit Operating Margin  Method  \n",
       "0       600000            300000              0.5       0  \n",
       "1       500000            150000              0.3       0  \n",
       "2       400000            140000             0.35       0  \n",
       "3       382500            133875             0.35       0  \n",
       "4       540000            162000              0.3       0  "
      ]
     },
     "execution_count": 38,
     "metadata": {},
     "output_type": "execute_result"
    }
   ],
   "source": [
    "df2.head()"
   ]
  },
  {
   "cell_type": "code",
   "execution_count": 39,
   "id": "11b4afce",
   "metadata": {
    "execution": {
     "iopub.execute_input": "2022-12-24T23:39:16.562398Z",
     "iopub.status.busy": "2022-12-24T23:39:16.561973Z",
     "iopub.status.idle": "2022-12-24T23:39:16.570728Z",
     "shell.execute_reply": "2022-12-24T23:39:16.569588Z"
    },
    "papermill": {
     "duration": 0.029356,
     "end_time": "2022-12-24T23:39:16.573075",
     "exception": false,
     "start_time": "2022-12-24T23:39:16.543719",
     "status": "completed"
    },
    "tags": []
   },
   "outputs": [],
   "source": [
    "X_train, X_test, y_train, y_test = train_test_split(X, Y, test_size = 0.25, random_state = 0)"
   ]
  },
  {
   "cell_type": "code",
   "execution_count": 40,
   "id": "0eb31645",
   "metadata": {
    "execution": {
     "iopub.execute_input": "2022-12-24T23:39:16.609014Z",
     "iopub.status.busy": "2022-12-24T23:39:16.608584Z",
     "iopub.status.idle": "2022-12-24T23:39:16.613491Z",
     "shell.execute_reply": "2022-12-24T23:39:16.612314Z"
    },
    "papermill": {
     "duration": 0.025745,
     "end_time": "2022-12-24T23:39:16.615960",
     "exception": false,
     "start_time": "2022-12-24T23:39:16.590215",
     "status": "completed"
    },
    "tags": []
   },
   "outputs": [],
   "source": [
    "lr= LinearRegression()"
   ]
  },
  {
   "cell_type": "markdown",
   "id": "89439b1c",
   "metadata": {
    "papermill": {
     "duration": 0.016449,
     "end_time": "2022-12-24T23:39:16.649297",
     "exception": false,
     "start_time": "2022-12-24T23:39:16.632848",
     "status": "completed"
    },
    "tags": []
   },
   "source": [
    "**Training the model**"
   ]
  },
  {
   "cell_type": "code",
   "execution_count": 41,
   "id": "0d3f3bf0",
   "metadata": {
    "execution": {
     "iopub.execute_input": "2022-12-24T23:39:16.685318Z",
     "iopub.status.busy": "2022-12-24T23:39:16.684830Z",
     "iopub.status.idle": "2022-12-24T23:39:16.720607Z",
     "shell.execute_reply": "2022-12-24T23:39:16.719553Z"
    },
    "papermill": {
     "duration": 0.058758,
     "end_time": "2022-12-24T23:39:16.724989",
     "exception": false,
     "start_time": "2022-12-24T23:39:16.666231",
     "status": "completed"
    },
    "tags": []
   },
   "outputs": [
    {
     "data": {
      "text/plain": [
       "LinearRegression()"
      ]
     },
     "execution_count": 41,
     "metadata": {},
     "output_type": "execute_result"
    }
   ],
   "source": [
    "lr.fit(X_train,y_train)"
   ]
  },
  {
   "cell_type": "code",
   "execution_count": 42,
   "id": "03784b25",
   "metadata": {
    "execution": {
     "iopub.execute_input": "2022-12-24T23:39:16.814997Z",
     "iopub.status.busy": "2022-12-24T23:39:16.814038Z",
     "iopub.status.idle": "2022-12-24T23:39:16.826292Z",
     "shell.execute_reply": "2022-12-24T23:39:16.824731Z"
    },
    "papermill": {
     "duration": 0.065145,
     "end_time": "2022-12-24T23:39:16.833780",
     "exception": false,
     "start_time": "2022-12-24T23:39:16.768635",
     "status": "completed"
    },
    "tags": []
   },
   "outputs": [],
   "source": [
    "y_pred = lr.predict(X_test)"
   ]
  },
  {
   "cell_type": "markdown",
   "id": "c6bb9647",
   "metadata": {
    "papermill": {
     "duration": 0.044249,
     "end_time": "2022-12-24T23:39:16.924523",
     "exception": false,
     "start_time": "2022-12-24T23:39:16.880274",
     "status": "completed"
    },
    "tags": []
   },
   "source": [
    "**Calculating R squared value:**"
   ]
  },
  {
   "cell_type": "code",
   "execution_count": 43,
   "id": "889f67aa",
   "metadata": {
    "execution": {
     "iopub.execute_input": "2022-12-24T23:39:16.972659Z",
     "iopub.status.busy": "2022-12-24T23:39:16.972274Z",
     "iopub.status.idle": "2022-12-24T23:39:16.978705Z",
     "shell.execute_reply": "2022-12-24T23:39:16.977964Z"
    },
    "papermill": {
     "duration": 0.026768,
     "end_time": "2022-12-24T23:39:16.980846",
     "exception": false,
     "start_time": "2022-12-24T23:39:16.954078",
     "status": "completed"
    },
    "tags": []
   },
   "outputs": [],
   "source": [
    "r2=r2_score(y_test, y_pred)"
   ]
  },
  {
   "cell_type": "code",
   "execution_count": 44,
   "id": "9453d7a5",
   "metadata": {
    "execution": {
     "iopub.execute_input": "2022-12-24T23:39:17.017955Z",
     "iopub.status.busy": "2022-12-24T23:39:17.016922Z",
     "iopub.status.idle": "2022-12-24T23:39:17.023213Z",
     "shell.execute_reply": "2022-12-24T23:39:17.022321Z"
    },
    "papermill": {
     "duration": 0.027462,
     "end_time": "2022-12-24T23:39:17.025226",
     "exception": false,
     "start_time": "2022-12-24T23:39:16.997764",
     "status": "completed"
    },
    "tags": []
   },
   "outputs": [
    {
     "data": {
      "text/plain": [
       "0.9587616577225724"
      ]
     },
     "execution_count": 44,
     "metadata": {},
     "output_type": "execute_result"
    }
   ],
   "source": [
    "r2"
   ]
  },
  {
   "cell_type": "markdown",
   "id": "9dcfb358",
   "metadata": {
    "papermill": {
     "duration": 0.016971,
     "end_time": "2022-12-24T23:39:17.059174",
     "exception": false,
     "start_time": "2022-12-24T23:39:17.042203",
     "status": "completed"
    },
    "tags": []
   },
   "source": [
    "**Predicting Sales amount**"
   ]
  },
  {
   "cell_type": "code",
   "execution_count": 45,
   "id": "81857811",
   "metadata": {
    "execution": {
     "iopub.execute_input": "2022-12-24T23:39:17.094773Z",
     "iopub.status.busy": "2022-12-24T23:39:17.094091Z",
     "iopub.status.idle": "2022-12-24T23:39:17.106721Z",
     "shell.execute_reply": "2022-12-24T23:39:17.105176Z"
    },
    "papermill": {
     "duration": 0.035739,
     "end_time": "2022-12-24T23:39:17.111614",
     "exception": false,
     "start_time": "2022-12-24T23:39:17.075875",
     "status": "completed"
    },
    "tags": []
   },
   "outputs": [],
   "source": [
    "df2['sales_pred']= lr.predict(X)"
   ]
  },
  {
   "cell_type": "code",
   "execution_count": 46,
   "id": "3ab3c017",
   "metadata": {
    "execution": {
     "iopub.execute_input": "2022-12-24T23:39:17.202028Z",
     "iopub.status.busy": "2022-12-24T23:39:17.201307Z",
     "iopub.status.idle": "2022-12-24T23:39:17.226049Z",
     "shell.execute_reply": "2022-12-24T23:39:17.225256Z"
    },
    "papermill": {
     "duration": 0.072417,
     "end_time": "2022-12-24T23:39:17.228167",
     "exception": false,
     "start_time": "2022-12-24T23:39:17.155750",
     "status": "completed"
    },
    "tags": []
   },
   "outputs": [
    {
     "data": {
      "text/html": [
       "<div>\n",
       "<style scoped>\n",
       "    .dataframe tbody tr th:only-of-type {\n",
       "        vertical-align: middle;\n",
       "    }\n",
       "\n",
       "    .dataframe tbody tr th {\n",
       "        vertical-align: top;\n",
       "    }\n",
       "\n",
       "    .dataframe thead th {\n",
       "        text-align: right;\n",
       "    }\n",
       "</style>\n",
       "<table border=\"1\" class=\"dataframe\">\n",
       "  <thead>\n",
       "    <tr style=\"text-align: right;\">\n",
       "      <th>3</th>\n",
       "      <th>Retailer</th>\n",
       "      <th>Region</th>\n",
       "      <th>State</th>\n",
       "      <th>City</th>\n",
       "      <th>Product</th>\n",
       "      <th>Price per Unit</th>\n",
       "      <th>Units Sold</th>\n",
       "      <th>Total Sales</th>\n",
       "      <th>Operating Profit</th>\n",
       "      <th>Operating Margin</th>\n",
       "      <th>Method</th>\n",
       "      <th>sales_pred</th>\n",
       "    </tr>\n",
       "  </thead>\n",
       "  <tbody>\n",
       "    <tr>\n",
       "      <th>0</th>\n",
       "      <td>0</td>\n",
       "      <td>0</td>\n",
       "      <td>0</td>\n",
       "      <td>0</td>\n",
       "      <td>0</td>\n",
       "      <td>50</td>\n",
       "      <td>1200</td>\n",
       "      <td>600000</td>\n",
       "      <td>300000</td>\n",
       "      <td>0.5</td>\n",
       "      <td>0</td>\n",
       "      <td>702908.696052</td>\n",
       "    </tr>\n",
       "    <tr>\n",
       "      <th>1</th>\n",
       "      <td>0</td>\n",
       "      <td>0</td>\n",
       "      <td>0</td>\n",
       "      <td>0</td>\n",
       "      <td>1</td>\n",
       "      <td>50</td>\n",
       "      <td>1000</td>\n",
       "      <td>500000</td>\n",
       "      <td>150000</td>\n",
       "      <td>0.3</td>\n",
       "      <td>0</td>\n",
       "      <td>450185.790083</td>\n",
       "    </tr>\n",
       "    <tr>\n",
       "      <th>2</th>\n",
       "      <td>0</td>\n",
       "      <td>0</td>\n",
       "      <td>0</td>\n",
       "      <td>0</td>\n",
       "      <td>2</td>\n",
       "      <td>40</td>\n",
       "      <td>1000</td>\n",
       "      <td>400000</td>\n",
       "      <td>140000</td>\n",
       "      <td>0.35</td>\n",
       "      <td>0</td>\n",
       "      <td>416059.917334</td>\n",
       "    </tr>\n",
       "    <tr>\n",
       "      <th>3</th>\n",
       "      <td>0</td>\n",
       "      <td>0</td>\n",
       "      <td>0</td>\n",
       "      <td>0</td>\n",
       "      <td>3</td>\n",
       "      <td>45</td>\n",
       "      <td>850</td>\n",
       "      <td>382500</td>\n",
       "      <td>133875</td>\n",
       "      <td>0.35</td>\n",
       "      <td>0</td>\n",
       "      <td>383273.192972</td>\n",
       "    </tr>\n",
       "    <tr>\n",
       "      <th>4</th>\n",
       "      <td>0</td>\n",
       "      <td>0</td>\n",
       "      <td>0</td>\n",
       "      <td>0</td>\n",
       "      <td>4</td>\n",
       "      <td>60</td>\n",
       "      <td>900</td>\n",
       "      <td>540000</td>\n",
       "      <td>162000</td>\n",
       "      <td>0.3</td>\n",
       "      <td>0</td>\n",
       "      <td>463924.150188</td>\n",
       "    </tr>\n",
       "  </tbody>\n",
       "</table>\n",
       "</div>"
      ],
      "text/plain": [
       "3  Retailer  Region  State  City  Product Price per Unit  Units Sold  \\\n",
       "0         0       0      0     0        0             50        1200   \n",
       "1         0       0      0     0        1             50        1000   \n",
       "2         0       0      0     0        2             40        1000   \n",
       "3         0       0      0     0        3             45         850   \n",
       "4         0       0      0     0        4             60         900   \n",
       "\n",
       "3  Total Sales  Operating Profit Operating Margin  Method     sales_pred  \n",
       "0       600000            300000              0.5       0  702908.696052  \n",
       "1       500000            150000              0.3       0  450185.790083  \n",
       "2       400000            140000             0.35       0  416059.917334  \n",
       "3       382500            133875             0.35       0  383273.192972  \n",
       "4       540000            162000              0.3       0  463924.150188  "
      ]
     },
     "execution_count": 46,
     "metadata": {},
     "output_type": "execute_result"
    }
   ],
   "source": [
    "df2.head()"
   ]
  },
  {
   "cell_type": "code",
   "execution_count": 47,
   "id": "b2a0e9c3",
   "metadata": {
    "execution": {
     "iopub.execute_input": "2022-12-24T23:39:17.265663Z",
     "iopub.status.busy": "2022-12-24T23:39:17.264973Z",
     "iopub.status.idle": "2022-12-24T23:39:17.520823Z",
     "shell.execute_reply": "2022-12-24T23:39:17.519696Z"
    },
    "papermill": {
     "duration": 0.277154,
     "end_time": "2022-12-24T23:39:17.523391",
     "exception": false,
     "start_time": "2022-12-24T23:39:17.246237",
     "status": "completed"
    },
    "tags": []
   },
   "outputs": [
    {
     "data": {
      "text/plain": [
       "Text(0.5, 1.0, 'Model correlation scatterplot')"
      ]
     },
     "execution_count": 47,
     "metadata": {},
     "output_type": "execute_result"
    },
    {
     "data": {
      "image/png": "[encoded data removed]",
      "text/plain": [
       "<Figure size 432x288 with 1 Axes>"
      ]
     },
     "metadata": {
      "needs_background": "light"
     },
     "output_type": "display_data"
    }
   ],
   "source": [
    "plt.scatter(df2['sales_pred'],df2['Total Sales'])\n",
    "plt.xlabel(\"sales_pred\")\n",
    "plt.ylabel(\"Total Sales\")\n",
    "plt.title('Model correlation scatterplot')\n"
   ]
  },
  {
   "cell_type": "markdown",
   "id": "f7393a6f",
   "metadata": {
    "papermill": {
     "duration": 0.017141,
     "end_time": "2022-12-24T23:39:17.558316",
     "exception": false,
     "start_time": "2022-12-24T23:39:17.541175",
     "status": "completed"
    },
    "tags": []
   },
   "source": [
    "**Thank you! Don't forget to upvote this notebook if you like it!**"
   ]
  }
 ],
 "metadata": {
  "kernelspec": {
   "display_name": "Python 3",
   "language": "python",
   "name": "python3"
  },
  "language_info": {
   "codemirror_mode": {
    "name": "ipython",
    "version": 3
   },
   "file_extension": ".py",
   "mimetype": "text/x-python",
   "name": "python",
   "nbconvert_exporter": "python",
   "pygments_lexer": "ipython3",
   "version": "3.7.12"
  },
  "papermill": {
   "default_parameters": {},
   "duration": 17.664294,
   "end_time": "2022-12-24T23:39:18.398300",
   "environment_variables": {},
   "exception": null,
   "input_path": "__notebook__.ipynb",
   "output_path": "__notebook__.ipynb",
   "parameters": {},
   "start_time": "2022-12-24T23:39:00.734006",
   "version": "2.3.4"
  }
 },
 "nbformat": 4,
 "nbformat_minor": 5
}
